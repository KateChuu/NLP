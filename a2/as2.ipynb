{
 "cells": [
  {
   "cell_type": "markdown",
   "metadata": {},
   "source": [
    "# The Hangman Game (7 marks)"
   ]
  },
  {
   "cell_type": "markdown",
   "metadata": {},
   "source": [
    "**Instructions**: The <a href=\"https://en.wikipedia.org/wiki/Hangman_(game)\">Hangman game</a> is a simple game whereby one person thinks of a word, which they keep secret from their opponent, who tries to guess the word one character at a time. The game ends when the opponent makes more than a fixed number of incorrect guesses, or they figure out the secret word before then (in which case they *win*). \n",
    "\n",
    "Here's a simple version of the game. **No implementation is needed.**"
   ]
  },
  {
   "cell_type": "code",
   "execution_count": null,
   "metadata": {
    "execution": {
     "iopub.execute_input": "2025-04-08T04:46:29.203326Z",
     "iopub.status.busy": "2025-04-08T04:46:29.202761Z",
     "iopub.status.idle": "2025-04-08T04:46:29.213722Z",
     "shell.execute_reply": "2025-04-08T04:46:29.212291Z",
     "shell.execute_reply.started": "2025-04-08T04:46:29.203281Z"
    },
    "trusted": true
   },
   "outputs": [],
   "source": [
    "def hangman(secret_word, guesser, max_mistakes=8, verbose=True, **guesser_args):\n",
    "    \"\"\"\n",
    "        This function plays the hangman game with the provided guesser and returns the number of incorrect guesses. \n",
    "        \n",
    "        secret_word: a string of lower-case alphabetic characters, i.e., the answer to the game\n",
    "        guesser: a function which guesses the next character at each stage in the game\n",
    "            The function takes a:\n",
    "                mask: what is known of the word, as a string with _ denoting an unknown character\n",
    "                guessed: the set of characters which already been guessed in the game\n",
    "                guesser_args: additional (optional) keyword arguments, i.e., name=value\n",
    "        max_mistakes: limit on length of game, in terms of number of allowed mistakes\n",
    "        verbose: silent or verbose diagnostic prints\n",
    "        guesser_args: keyword arguments to pass directly to the guesser function\n",
    "    \"\"\"\n",
    "    secret_word = secret_word.lower()\n",
    "    mask = ['_'] * len(secret_word)\n",
    "    guessed = set()\n",
    "    if verbose:\n",
    "        print(\"Starting hangman game. Target is\", ' '.join(mask), 'length', len(secret_word))\n",
    "    \n",
    "    mistakes = 0\n",
    "    while mistakes < max_mistakes:\n",
    "        if verbose:\n",
    "            print(\"You have\", (max_mistakes-mistakes), \"attempts remaining.\")\n",
    "        guess = guesser(mask, guessed, **guesser_args)\n",
    "\n",
    "        if verbose:\n",
    "            print('Guess is', guess)\n",
    "        if guess in guessed:\n",
    "            if verbose:\n",
    "                print('Already guessed this before.')\n",
    "            mistakes += 1\n",
    "        else:\n",
    "            guessed.add(guess)\n",
    "            if guess in secret_word and len(guess) == 1:\n",
    "                for i, c in enumerate(secret_word):\n",
    "                    if c == guess:\n",
    "                        mask[i] = c\n",
    "                if verbose:\n",
    "                    print('Good guess:', ' '.join(mask))\n",
    "            else:\n",
    "                if len(guess) != 1:\n",
    "                    print('Please guess with only 1 character.')\n",
    "                if verbose:\n",
    "                    print('Sorry, try again.')\n",
    "                mistakes += 1\n",
    "                \n",
    "        if '_' not in mask:\n",
    "            if verbose:\n",
    "                print('Congratulations, you won.')\n",
    "            return mistakes\n",
    "        \n",
    "    if verbose:\n",
    "        print('Out of guesses. The word was', secret_word)    \n",
    "    return mistakes"
   ]
  },
  {
   "cell_type": "markdown",
   "metadata": {},
   "source": [
    "Here is a human guesser allowing interactive play."
   ]
  },
  {
   "cell_type": "code",
   "execution_count": null,
   "metadata": {
    "execution": {
     "iopub.execute_input": "2025-04-08T04:46:29.215762Z",
     "iopub.status.busy": "2025-04-08T04:46:29.215247Z",
     "iopub.status.idle": "2025-04-08T04:46:29.237396Z",
     "shell.execute_reply": "2025-04-08T04:46:29.236256Z",
     "shell.execute_reply.started": "2025-04-08T04:46:29.215675Z"
    },
    "trusted": true
   },
   "outputs": [],
   "source": [
    "def human(mask, guessed, **kwargs):\n",
    "    \"\"\"\n",
    "    This is a simple function for manual play.\n",
    "    \"\"\"\n",
    "    print('\\nEnter your guess:')\n",
    "    return input().lower().strip()"
   ]
  },
  {
   "cell_type": "markdown",
   "metadata": {},
   "source": [
    "If you want to play hangman interactively, please set `interactive` to `True`. When submitting your solution, set to `False` so we can automatically run the whole notebook using `Run All`."
   ]
  },
  {
   "cell_type": "code",
   "execution_count": null,
   "metadata": {
    "execution": {
     "iopub.execute_input": "2025-04-08T04:46:29.240354Z",
     "iopub.status.busy": "2025-04-08T04:46:29.239844Z",
     "iopub.status.idle": "2025-04-08T04:46:29.254778Z",
     "shell.execute_reply": "2025-04-08T04:46:29.253444Z",
     "shell.execute_reply.started": "2025-04-08T04:46:29.240320Z"
    },
    "trusted": true
   },
   "outputs": [],
   "source": [
    "interactive = False"
   ]
  },
  {
   "cell_type": "markdown",
   "metadata": {},
   "source": [
    "<b>For your testing:</b>\n",
    "\n",
    "You can play the game interactively using the following command:"
   ]
  },
  {
   "cell_type": "code",
   "execution_count": null,
   "metadata": {
    "execution": {
     "iopub.execute_input": "2025-04-08T04:46:29.256737Z",
     "iopub.status.busy": "2025-04-08T04:46:29.256381Z",
     "iopub.status.idle": "2025-04-08T04:46:29.271665Z",
     "shell.execute_reply": "2025-04-08T04:46:29.270530Z",
     "shell.execute_reply.started": "2025-04-08T04:46:29.256700Z"
    },
    "trusted": true
   },
   "outputs": [],
   "source": [
    "if interactive:\n",
    "    hangman('whatever', human, 8, True)"
   ]
  },
  {
   "cell_type": "markdown",
   "metadata": {
    "collapsed": true,
    "jupyter": {
     "outputs_hidden": true
    }
   },
   "source": [
    "### Question 1 (1.0 mark)\n",
    "\n",
    "**Instructions**: We will use the words in NLTK's Brown corpus for training an artificial intelligence guessing algorithm, and for evaluating the quality of the algorithm.\n",
    "\n",
    "Your first task is to compute the number of **unique word types** occurring in the Brown corpus, using `nltk.corpus.brown` and the `words` method, and select only words that are **entirely comprised of alphabetic characters**. You should also **lowercase the words**. Finally, randomly shuffle (`numpy.random.shuffle`) this collection of word types, and split them into disjoint training and testing sets. The test set should contain 1000 word types, and the rest should be in the  training set. Note that we are intentionally making the hangman game hard, as the AI will need to cope with test words that it has not seen before, hence it will need to learn generalisable patterns of characters to make reasonable predictions.\n",
    "\n",
    "**Task**: Collect all unique word types from the Brown corpus, and produce `training_set` and `test_set`, 2 lists that contain 2 disjointed sets of words. Both `training_set` and `test_set` should be a python `list` (as initialised in the code). `test_set` must contain exactly 1000 word types.\n",
    "\n",
    "**Check**: Use the assertion statements in <b>\"For your testing\"</b> below for the expected output."
   ]
  },
  {
   "cell_type": "code",
   "execution_count": null,
   "metadata": {
    "execution": {
     "iopub.execute_input": "2025-04-08T04:46:29.273034Z",
     "iopub.status.busy": "2025-04-08T04:46:29.272736Z",
     "iopub.status.idle": "2025-04-08T04:46:31.996604Z",
     "shell.execute_reply": "2025-04-08T04:46:31.995391Z",
     "shell.execute_reply.started": "2025-04-08T04:46:29.273010Z"
    },
    "trusted": true
   },
   "outputs": [
    {
     "name": "stdout",
     "output_type": "stream",
     "text": [
      "[nltk_data] Downloading package brown to /usr/share/nltk_data...\n",
      "[nltk_data]   Package brown is already up-to-date!\n",
      "Number of word types in test = 1000\n",
      "Number of word types in train = 39234\n"
     ]
    }
   ],
   "source": [
    "import nltk\n",
    "from nltk.corpus import brown\n",
    "import numpy as np\n",
    "\n",
    "\n",
    "nltk.download('brown')\n",
    "np.random.seed(1)\n",
    "\n",
    "# training_set stores the rest word types for training\n",
    "training_set = []\n",
    "# test_set stores 1000 word types for testing\n",
    "test_set = []\n",
    "\n",
    "\n",
    "###\n",
    "# Your answer BEGINS HERE\n",
    "###\n",
    "# choose words that are entirely comprised of alphabetic characters. \n",
    "# lowercase the words and get rid of duplicates\n",
    "words = set([word.lower() for word in brown.words() if word.isalpha()])\n",
    "words = list(words)\n",
    "\n",
    "# shuffle the words\n",
    "np.random.shuffle(words)\n",
    "\n",
    "# the test set contains 1000 word types,\n",
    "test_set = words[:1000]\n",
    "training_set = words[1000:]\n",
    "\n",
    "###\n",
    "# Your answer ENDS HERE\n",
    "###\n",
    "\n",
    "print(\"Number of word types in test =\", len(test_set))\n",
    "print(\"Number of word types in train =\", len(training_set))"
   ]
  },
  {
   "cell_type": "markdown",
   "metadata": {},
   "source": [
    "<b>For your testing:</b>"
   ]
  },
  {
   "cell_type": "code",
   "execution_count": null,
   "metadata": {
    "execution": {
     "iopub.execute_input": "2025-04-08T04:46:31.998134Z",
     "iopub.status.busy": "2025-04-08T04:46:31.997800Z",
     "iopub.status.idle": "2025-04-08T04:46:32.003379Z",
     "shell.execute_reply": "2025-04-08T04:46:32.001568Z",
     "shell.execute_reply.started": "2025-04-08T04:46:31.998094Z"
    },
    "trusted": true
   },
   "outputs": [],
   "source": [
    "assert(len(training_set) > 35000 and len(training_set) < 45000)\n",
    "assert(len(test_set) == 1000)"
   ]
  },
  {
   "cell_type": "markdown",
   "metadata": {},
   "source": [
    "**Play the game**:\n",
    "\n",
    "Let's see how good you are at this game! Try to guess a random word from the test set. It is surprisingly difficult (and addictive)! Don't forget to set `interactive = True`."
   ]
  },
  {
   "cell_type": "code",
   "execution_count": null,
   "metadata": {
    "execution": {
     "iopub.execute_input": "2025-04-08T04:46:32.005119Z",
     "iopub.status.busy": "2025-04-08T04:46:32.004739Z",
     "iopub.status.idle": "2025-04-08T04:46:32.022058Z",
     "shell.execute_reply": "2025-04-08T04:46:32.020785Z",
     "shell.execute_reply.started": "2025-04-08T04:46:32.005084Z"
    },
    "trusted": true
   },
   "outputs": [],
   "source": [
    "#play hangman using random words from test set\n",
    "if interactive:\n",
    "    hangman(np.random.choice(test_set), human, 8, True)"
   ]
  },
  {
   "cell_type": "markdown",
   "metadata": {},
   "source": [
    "### Question 2 (0.5 mark)\n",
    "\n",
    "**Instructions**: To set a baseline, your first AI attempt will be a trivial **random method**. For this you should implement a guessing method, similar to the `human` method above, i.e., using the same input arguments and returning a character. Your method should randomly choose a character from the range `a ... z` after excluding the characters that have already been guessed in the current game (all subsequent AI approaches should also exclude previous guesses).\n",
    "\n",
    "To help you measure the performance of this (and later) guesser, a `test_guesser` method that takes a guesser and measures the average number of incorrect guesses made over all the words in the `test` is provided to you. \n",
    "\n",
    "**Task**: Complete the `random_guesser` method. It should return a random character from the English alphabets.\n",
    "\n",
    "**Check**: Use the assertion statements in <b>\"For your testing\"</b> below for the expected output."
   ]
  },
  {
   "cell_type": "code",
   "execution_count": null,
   "metadata": {
    "execution": {
     "iopub.execute_input": "2025-04-08T04:46:32.025160Z",
     "iopub.status.busy": "2025-04-08T04:46:32.024876Z",
     "iopub.status.idle": "2025-04-08T04:46:32.040904Z",
     "shell.execute_reply": "2025-04-08T04:46:32.039767Z",
     "shell.execute_reply.started": "2025-04-08T04:46:32.025136Z"
    },
    "trusted": true
   },
   "outputs": [],
   "source": [
    "def test_guesser(guesser, test):\n",
    "    \"\"\"\n",
    "        This function takes a guesser and measures the average number of incorrect guesses made over all the words in the test_set. \n",
    "    \"\"\"\n",
    "    total = 0\n",
    "    for word in test:\n",
    "        total += hangman(word, guesser, 26, False)\n",
    "    return total / float(len(test))"
   ]
  },
  {
   "cell_type": "code",
   "execution_count": null,
   "metadata": {
    "execution": {
     "iopub.execute_input": "2025-04-08T04:46:32.042738Z",
     "iopub.status.busy": "2025-04-08T04:46:32.042415Z",
     "iopub.status.idle": "2025-04-08T04:46:32.522090Z",
     "shell.execute_reply": "2025-04-08T04:46:32.521012Z",
     "shell.execute_reply.started": "2025-04-08T04:46:32.042704Z"
    },
    "trusted": true
   },
   "outputs": [
    {
     "name": "stdout",
     "output_type": "stream",
     "text": [
      "Guessing word = acclaim\n",
      "Number of mistakes made by the random guesser = 16\n",
      "\n",
      "Testing the random guesser using every word in test set\n",
      "Average number of incorrect guesses:  16.66\n"
     ]
    }
   ],
   "source": [
    "def random_guesser(mask, guessed, **kwargs):\n",
    "    \n",
    "    ###\n",
    "    # Your answer BEGINS HERE\n",
    "    ###\n",
    "    \n",
    "    # obtain the letters that are not guessed\n",
    "    letters = set('abcdefghijklmnopqrstuvwxyz').difference(guessed)\n",
    "    guess = np.random.choice(list(letters))\n",
    "    return guess\n",
    "    \n",
    "    ###\n",
    "    # Your answer ENDS HERE\n",
    "    ###\n",
    "\n",
    "random_word = np.random.choice(test_set)\n",
    "print(\"Guessing word =\", random_word)\n",
    "print(\"Number of mistakes made by the random guesser =\", hangman(random_word, random_guesser, 26, False))\n",
    "\n",
    "result = test_guesser(random_guesser, test_set)\n",
    "print(\"\\nTesting the random guesser using every word in test set\")\n",
    "print(\"Average number of incorrect guesses: \", result)"
   ]
  },
  {
   "cell_type": "markdown",
   "metadata": {},
   "source": [
    "<b>For your testing:</b>"
   ]
  },
  {
   "cell_type": "code",
   "execution_count": null,
   "metadata": {
    "execution": {
     "iopub.execute_input": "2025-04-08T04:46:32.523453Z",
     "iopub.status.busy": "2025-04-08T04:46:32.523142Z",
     "iopub.status.idle": "2025-04-08T04:46:32.528634Z",
     "shell.execute_reply": "2025-04-08T04:46:32.527315Z",
     "shell.execute_reply.started": "2025-04-08T04:46:32.523427Z"
    },
    "trusted": true
   },
   "outputs": [],
   "source": [
    "assert(result > 10 and result < 20)"
   ]
  },
  {
   "cell_type": "markdown",
   "metadata": {},
   "source": [
    "### Question 3 (1.0 mark)\n",
    "\n",
    "**Instructions:** As your first real AI, you should train a **unigram language model** over the training set. This requires you to find the frequencies of characters over all training words. Using this model, you should write a guesser that returns the character with the highest probability. Remember to exclude already guessed characters. \n",
    "\n",
    "**Task**: Collect the frequencies of characters and store them in `unigram_counts` (use the first answer space). Complete the `unigram_guesser` method (use the second answer space). Note that it takes `unigram_counts` as an additional argument.\n",
    "\n",
    "**Check**: Use the assertion statements in <b>\"For your testing\"</b> below for the expected output."
   ]
  },
  {
   "cell_type": "code",
   "execution_count": null,
   "metadata": {
    "execution": {
     "iopub.execute_input": "2025-04-08T04:46:32.530228Z",
     "iopub.status.busy": "2025-04-08T04:46:32.529841Z",
     "iopub.status.idle": "2025-04-08T04:46:32.694020Z",
     "shell.execute_reply": "2025-04-08T04:46:32.692856Z",
     "shell.execute_reply.started": "2025-04-08T04:46:32.530162Z"
    },
    "trusted": true
   },
   "outputs": [
    {
     "name": "stdout",
     "output_type": "stream",
     "text": [
      "Testing the unigram guesser using every word in test set\n",
      "Average number of incorrect guesses:  10.048\n"
     ]
    }
   ],
   "source": [
    "unigram_counts = None\n",
    "\n",
    "###\n",
    "# Your answer BEGINS HERE\n",
    "###\n",
    "import collections\n",
    "unigram_counts = collections.defaultdict(int) \n",
    "# collect the frequencies of characters and store them in the dictionary\n",
    "for word in training_set:\n",
    "    for letter in word:\n",
    "        unigram_counts[letter] += 1\n",
    "###\n",
    "# Your answer ENDS HERE\n",
    "###\n",
    "\n",
    "def unigram_guesser(mask, guessed, unigram_counts=unigram_counts):\n",
    "\n",
    "    ###\n",
    "    # Your answer BEGINS HERE\n",
    "    ###\n",
    "    \n",
    "    letters = set(unigram_counts.keys()).difference(guessed)\n",
    "    # select a letter from the unguessed letters that has the highest counts among all letters\n",
    "    guess = max(letters, key = lambda x: unigram_counts[x])\n",
    "    return guess\n",
    "    \n",
    "    ###\n",
    "    # Your answer ENDS HERE\n",
    "    ###\n",
    "\n",
    "result = test_guesser(unigram_guesser, test_set)\n",
    "print(\"Testing the unigram guesser using every word in test set\")\n",
    "print(\"Average number of incorrect guesses: \", result)"
   ]
  },
  {
   "cell_type": "markdown",
   "metadata": {},
   "source": [
    "<b>For your testing:</b>"
   ]
  },
  {
   "cell_type": "code",
   "execution_count": null,
   "metadata": {
    "execution": {
     "iopub.execute_input": "2025-04-08T04:46:32.695561Z",
     "iopub.status.busy": "2025-04-08T04:46:32.695219Z",
     "iopub.status.idle": "2025-04-08T04:46:32.700852Z",
     "shell.execute_reply": "2025-04-08T04:46:32.699478Z",
     "shell.execute_reply.started": "2025-04-08T04:46:32.695523Z"
    },
    "trusted": true
   },
   "outputs": [],
   "source": [
    "assert(result > 5 and result < 15)"
   ]
  },
  {
   "cell_type": "markdown",
   "metadata": {},
   "source": [
    "### Question 4 (1.0 mark)\n",
    "\n",
    "**Instructions:** The length of the secret word is an important clue that we might exploit. Different lengths tend to have different distributions over characters, e.g., short words are less likely to have suffixes or prefixes. You should incorporate this idea by conditioning the unigram model on the length of the secret word, i.e.,  having a **different unigram model for each length**. You will need to be a little careful at test time, to be robust to the situation that you encounter a word length that you didn't see in training. In such a case, your method should behave like the previous `unigram_guesser` in Question 3 (i.e., it guesses characters based on unigram frequencies, unconditioned by the word length).\n",
    "\n",
    "**Task**: Collect the frequencies of characters conditioned on the word length and store them in `unigram_counts_by_length` (use the first answer space). Complete the `unigram_length_guesser` method (use the second answer space).\n",
    "\n",
    "**Check**: Use the assertion statements in <b>\"For your testing\"</b> below for the expected output."
   ]
  },
  {
   "cell_type": "code",
   "execution_count": null,
   "metadata": {
    "execution": {
     "iopub.execute_input": "2025-04-08T04:46:32.702529Z",
     "iopub.status.busy": "2025-04-08T04:46:32.702147Z",
     "iopub.status.idle": "2025-04-08T04:46:32.885210Z",
     "shell.execute_reply": "2025-04-08T04:46:32.884177Z",
     "shell.execute_reply.started": "2025-04-08T04:46:32.702500Z"
    },
    "trusted": true
   },
   "outputs": [
    {
     "name": "stdout",
     "output_type": "stream",
     "text": [
      "Testing the length-conditioned unigram guesser using every word in test set\n",
      "Average number of incorrect guesses:  10.09\n"
     ]
    }
   ],
   "source": [
    "unigram_counts_by_length = None\n",
    "\n",
    "###\n",
    "# Your answer BEGINS HERE\n",
    "###\n",
    "\n",
    "# collect the frequencies of characters conditioned on the word length \n",
    "# store them in the format of {len: {'a': count, 'b': count, ...}}\n",
    "unigram_counts_by_length = collections.defaultdict(int) \n",
    "for word in training_set:\n",
    "    length = len(word)\n",
    "    \n",
    "    # initialize the dictionary when seeing a new letter\n",
    "    if length not in unigram_counts_by_length:\n",
    "       unigram_counts_by_length[length] = collections.defaultdict(int)\n",
    "    \n",
    "    for letter in word:\n",
    "        unigram_counts_by_length[length][letter] += 1\n",
    "###\n",
    "# Your answer ENDS HERE\n",
    "###\n",
    "\n",
    "def unigram_length_guesser(mask, guessed, unigram_counts_by_length=unigram_counts_by_length, unigram_counts=unigram_counts):\n",
    "    ###\n",
    "    # Your answer BEGINS HERE\n",
    "    ###\n",
    "\n",
    "    mask_len = len(mask)\n",
    "    letters = set(unigram_counts.keys()).difference(guessed)\n",
    "\n",
    "    # the length is not in the training set\n",
    "    if mask_len not in unigram_counts_by_length: \n",
    "        dict_to_use = unigram_counts # fall back to unigram_counts\n",
    "    else:\n",
    "        dict_to_use = unigram_counts_by_length[mask_len]\n",
    "        \n",
    "    # the length is in the training set but we guessed all seen letters\n",
    "    if not letters: \n",
    "        return max(unigram_counts.keys(), key = lambda x: unigram_counts[x]) # fall back to unigram_counts\n",
    "        \n",
    "    # select a letter from the remaining letters\n",
    "    guess = max(letters, key = lambda x: dict_to_use[x])\n",
    "    return guess\n",
    "    ###\n",
    "    # Your answer ENDS HERE\n",
    "    ###\n",
    "\n",
    "result = test_guesser(unigram_length_guesser, test_set)\n",
    "print(\"Testing the length-conditioned unigram guesser using every word in test set\")\n",
    "print(\"Average number of incorrect guesses: \", result)"
   ]
  },
  {
   "cell_type": "markdown",
   "metadata": {},
   "source": [
    "<b>For your testing:</b>"
   ]
  },
  {
   "cell_type": "code",
   "execution_count": null,
   "metadata": {
    "execution": {
     "iopub.execute_input": "2025-04-08T04:46:32.886654Z",
     "iopub.status.busy": "2025-04-08T04:46:32.886284Z",
     "iopub.status.idle": "2025-04-08T04:46:32.891873Z",
     "shell.execute_reply": "2025-04-08T04:46:32.890855Z",
     "shell.execute_reply.started": "2025-04-08T04:46:32.886620Z"
    },
    "trusted": true
   },
   "outputs": [],
   "source": [
    "assert(result > 5 and result < 15)"
   ]
  },
  {
   "cell_type": "markdown",
   "metadata": {},
   "source": [
    "### Question 5 (1.0 mark)\n",
    "\n",
    "**Instructions:** Now for the next challenge, you'll build a **bigram language model** over characters. The order of characters is obviously important, yet this wasn't incorporated in any of the above models. Knowing that the word has the sequence `n _ s s` is a pretty strong clue that the missing character might be `e`. Similarly the distribution over characters that start or end a word are highly biased (e.g., toward common prefixes and suffixes, like *un-*, *-ed* and *-ly*).\n",
    "\n",
    "The task here is to develop a bigram language model over characters, and train it over the training words. Remember to be careful when handling the start of each word properly, e.g., by padding with a special starting symbol such as `$`. Do we also need a special ending symbol? That's for you to decide.\n",
    "\n",
    "Your bigram guesser should apply your language model to each blank position in the secret word by using its left context character. For example, in the partial word `e _ c _ b _ _` we know the left context for the first three blanks, but have no known left context for the last blank. In the case for the last blank, you should revert to using a unigram language model (since there's no context for us to use the bigram model). You should sum up the probability distribution (over all alphabets from <i>a</i> to <i>z</i>) for the 4 blanks, and select the alphabet with the highest probability that hasn't been guessed.\n",
    "\n",
    "**Note**:\n",
    "- When backing-off to the unigram language model, you **must use the vanilla unigram language model that you have built in Q3**. Do not use the length-based unigram language model, or any fancy variant, or you will lose marks.\n",
    "- You should build a **standard bigram language model**; i.e. do not do anything complicated like a bidirectional bigram language model.\n",
    "\n",
    "**Task**: Collect frequency counts that are necessary for building a bigram language model and store them in bigram_counts; feel free to add new objects if needed (use the first answer space). Complete the `bigram_guesser` method (use the second answer space). Note that the method currently only has one additional argument (`bigram_counts`), but you are free to add additional arguments."
   ]
  },
  {
   "cell_type": "code",
   "execution_count": null,
   "metadata": {
    "execution": {
     "iopub.execute_input": "2025-04-08T04:46:32.893724Z",
     "iopub.status.busy": "2025-04-08T04:46:32.893289Z",
     "iopub.status.idle": "2025-04-08T04:46:33.435818Z",
     "shell.execute_reply": "2025-04-08T04:46:33.434511Z",
     "shell.execute_reply.started": "2025-04-08T04:46:32.893694Z"
    },
    "trusted": true
   },
   "outputs": [
    {
     "name": "stdout",
     "output_type": "stream",
     "text": [
      "Testing the bigram guesser using every word in test set\n",
      "Average number of incorrect guesses:  8.547\n"
     ]
    }
   ],
   "source": [
    "bigram_counts = None\n",
    "\n",
    "###\n",
    "# Your answer BEGINS HERE\n",
    "###\n",
    "\n",
    "bigram_counts = collections.defaultdict(collections.Counter)\n",
    "# collect bigram counts\n",
    "for word in training_set:\n",
    "    # handling the start of each word by padding with $. \n",
    "    word = '$' + word\n",
    "    bigram_list = zip(word[:-1], word[1:])\n",
    "    # iterate over bigrams\n",
    "    for bigram in bigram_list:\n",
    "        first, second = bigram\n",
    "        bigram_counts[first][second] += 1 \n",
    "        \n",
    "# function to calculate the probability of seeing all characters from a to z based on a given letter      \n",
    "def compute_probs(counts):\n",
    "    probs = collections.defaultdict(int)\n",
    "    for k in counts.keys():\n",
    "        probs[k] = counts[k] / sum(list(counts.values()))\n",
    "    return probs\n",
    "        \n",
    "# calculate bigram probs based on bigram counts\n",
    "bigram_probs = collections.defaultdict(int)\n",
    "for k in bigram_counts.keys():\n",
    "    bigram_probs[k] = compute_probs(bigram_counts[k])\n",
    "    \n",
    "# calculate unigram probs based on unigram counts\n",
    "unigram_probs = compute_probs(unigram_counts)\n",
    "\n",
    "###\n",
    "# Your answer ENDS HERE\n",
    "###\n",
    "def bigram_guesser(mask, guessed, bigram_counts=bigram_counts, unigram_probs=unigram_probs, bigram_probs=bigram_probs): # add extra arguments if needed\n",
    "    ###\n",
    "    # Your answer BEGINS HERE\n",
    "    ###\n",
    "    \n",
    "    # sum of probability distribution over all alphabets for all blanks\n",
    "    probs = collections.defaultdict(int)\n",
    "    left = 0            # left index\n",
    "    right = 1           # right index\n",
    "    mask = ['$'] + mask # pad the mask \n",
    "    \n",
    "    while right < len(mask):\n",
    "        first_char = mask[left]\n",
    "        second_char = mask[right]\n",
    "\n",
    "        # guess the second character based on the known first character\n",
    "        if first_char != '_' and second_char == '_':\n",
    "            letters = set(bigram_counts[first_char].keys()).difference(guessed)\n",
    "            probs_to_use = bigram_probs[first_char]\n",
    "            \n",
    "            # fall back to vanilla unigram counts if running out of seen letters in the bigram counts\n",
    "            if not letters:\n",
    "                letters = set(unigram_counts.keys()).difference(guessed)\n",
    "                probs_to_use = unigram_probs\n",
    "            \n",
    "            # compute the probability of the remaining letters\n",
    "            for k in letters:\n",
    "                probs[k] += probs_to_use[k]\n",
    "        \n",
    "        # both first and second characters are unknown, so fall back to vanilla unigram counts        \n",
    "        elif first_char == '_' and second_char == '_':\n",
    "            letters = set(unigram_counts.keys()).difference(guessed)\n",
    "            probs_to_use = unigram_probs\n",
    "            for k in letters:\n",
    "                probs[k] += probs_to_use[k]\n",
    "                \n",
    "        left += 1\n",
    "        right += 1\n",
    "    \n",
    "    return max(probs, key=probs.get)\n",
    "    ###\n",
    "    # Your answer ENDS HERE\n",
    "    ###\n",
    " \n",
    "result = test_guesser(bigram_guesser, test_set)\n",
    "print(\"Testing the bigram guesser using every word in test set\")\n",
    "print(\"Average number of incorrect guesses: \", result)"
   ]
  },
  {
   "cell_type": "markdown",
   "metadata": {},
   "source": [
    "### Question 6 (2.0 mark)\n",
    "\n",
    "**Instructions:** You should try to develop a more effective AI for hangman. Feel free to engage your creativity here! Possibilities include better conditioning on the length of the word, fancier smoothing methods, ngram models and bidirectional models (lecture 8). Have fun!\n",
    "\n",
    "You will be marked based on the performance of your AI model, using a pre-made training and test set (created using a secret seed). Let x be the average number of mistakes in the test set, you will score:\n",
    "* 2.0 mark if x < 6.0\n",
    "* 1.5 mark if 6.0 <= x < 6.5\n",
    "* 1.0 mark if 6.5 <= x < 7.0\n",
    "* 0.5 mark if 7.0 <= x < 8.0\n",
    "* 0.0 mark if x >= 8.0\n",
    "\n",
    "Note:\n",
    "* When testing your AI model's performance, you may want to consider trying different training/test splits (using different seeds) to have a better understanding of its _average_ performance, as there will be some variance to its performance depending on the training/test split.\n",
    "* Your code must run under 2 minutes on Colab (free account) with GPU; program that runs longer than that will be terminated and you will score 0.\n",
    "\n",
    "**Task** Complete the `my_amazing_ai_guesser` method, which implements a better language model for hangman."
   ]
  },
  {
   "cell_type": "code",
   "execution_count": null,
   "metadata": {
    "execution": {
     "iopub.execute_input": "2025-04-08T04:46:33.437338Z",
     "iopub.status.busy": "2025-04-08T04:46:33.436947Z",
     "iopub.status.idle": "2025-04-08T04:46:35.969545Z",
     "shell.execute_reply": "2025-04-08T04:46:35.968394Z",
     "shell.execute_reply.started": "2025-04-08T04:46:33.437302Z"
    },
    "trusted": true
   },
   "outputs": [
    {
     "name": "stdout",
     "output_type": "stream",
     "text": [
      "Testing my amazing AI guesser using every word in test set\n",
      "Average number of incorrect guesses:  7.574\n"
     ]
    }
   ],
   "source": [
    "###\n",
    "# Your answer BEGINS HERE\n",
    "###\n",
    "alphabet = 'abcdefghijklmnopqrstuvwxyz'\n",
    "k = 0.005\n",
    "\n",
    "# compute the probability with add-k smoothing\n",
    "def compute_probs_smoothing(counts, letters, k):\n",
    "    probs = collections.defaultdict(int)\n",
    "    for l in letters:\n",
    "        probs[l] = (counts[l]+k) / (sum(list(counts.values())) + k*len(alphabet))\n",
    "    return probs  \n",
    "\n",
    "# collect normal bigarm counts\n",
    "bigram_counts_nor = collections.defaultdict(collections.Counter)\n",
    "for word in training_set:\n",
    "    word = '$' + word + '.'\n",
    "    bigram_list = zip(word[:-1], word[1:])\n",
    "    # iterate over bigrams\n",
    "    for bigram in bigram_list:\n",
    "        first, second = bigram\n",
    "        bigram_counts_nor[first][second] += 1 # a dict of dict\n",
    "  \n",
    "# collect reversed bigram count \n",
    "bigram_counts_rev = collections.defaultdict(collections.Counter)\n",
    "for word in training_set:\n",
    "    word = '$' + word + '.' # pad the end of a word with .\n",
    "    bigram_list = zip(word[:-1], word[1:])\n",
    "    # iterate over bigrams\n",
    "    for bigram in bigram_list:\n",
    "        first, second = bigram\n",
    "        bigram_counts_rev[second][first] += 1 # a dict of dict\n",
    "        \n",
    "# collect CBOW count (window size = 3)\n",
    "cbow_counts = collections.defaultdict(collections.Counter)\n",
    "for word in training_set:\n",
    "    word = list('$' + word + '.')\n",
    "    for i in range(1, len(word) - 1):\n",
    "        cbow_counts[(word[i-1], word[i+1])][word[i]] += 1\n",
    "\n",
    "# collect CBOW count (window size = 5)\n",
    "cbow_counts_long = collections.defaultdict(collections.Counter)\n",
    "for word in training_set:\n",
    "    word = list('$$' + word + '..')\n",
    "    for i in range(2, len(word) - 2):\n",
    "        cbow_counts_long[(word[i-2], word[i-1], word[i+1], word[i+2])][word[i]] += 1\n",
    "\n",
    "\n",
    "def my_amazing_ai_guesser(mask, guessed, unigram_counts=unigram_counts, \n",
    "                          bigram_counts_nor=bigram_counts_nor, bigram_counts_rev=bigram_counts_rev, \n",
    "                          cbow_counts=cbow_counts, cbow_counts_long=cbow_counts_long): \n",
    "    \n",
    "    # probability distribution over all unguessed letters\n",
    "    probs = collections.defaultdict(int)\n",
    "    # all unguessed letters\n",
    "    letters = set(alphabet).difference(guessed)\n",
    "    # pad the mask \n",
    "    \n",
    "    mask = ['$'] + ['$'] + mask + ['.'] + ['.']\n",
    "    \n",
    "    for i in range(1, len(mask)-1):\n",
    "        # skip the characters that have been guessed \n",
    "        if mask[i] != '_':\n",
    "            continue\n",
    "\n",
    "        left_char = mask[i-1]\n",
    "        right_char = mask[i+1]\n",
    "        neighbor = False # whether the missing character has at least one known neighbor\n",
    "        \n",
    "        # CBOW with a window size of 3\n",
    "        if left_char != '_' and right_char != '_':\n",
    "            neighbor = True   \n",
    "            prob = compute_probs_smoothing(cbow_counts[(left_char, right_char)], letters, k) \n",
    "            # CBOW with a window size of 5 \n",
    "            if i >= 2 and i < len(mask)-2 and mask[i-2] != '_' and mask[i+2] != '_':\n",
    "                prob = compute_probs_smoothing(cbow_counts_long[(mask[i-2], left_char, right_char, mask[i+2])], letters, k)          \n",
    "        # bigram normal\n",
    "        if left_char != '_' and right_char == '_':\n",
    "            neighbor = True  \n",
    "            prob = compute_probs_smoothing(bigram_counts_nor[left_char], letters, k) \n",
    "        # bigram reversed\n",
    "        if left_char == '_' and right_char != '_':\n",
    "            neighbor = True  \n",
    "            prob = compute_probs_smoothing(bigram_counts_rev[right_char], letters, k)\n",
    "        # unigram\n",
    "        if not neighbor:\n",
    "            # fall back to unigram if seeing three '_' consecutively    \n",
    "            prob = compute_probs_smoothing(unigram_counts, letters, k)\n",
    "\n",
    "        for key in prob.keys():\n",
    "            probs[key] += prob[key]   \n",
    "\n",
    "    return max(probs, key=probs.get)\n",
    "###\n",
    "# Your answer ENDS HERE\n",
    "###\n",
    "\n",
    "result = test_guesser(my_amazing_ai_guesser, test_set)\n",
    "print(\"Testing my amazing AI guesser using every word in test set\")\n",
    "print(\"Average number of incorrect guesses: \", result)"
   ]
  },
  {
   "cell_type": "markdown",
   "metadata": {},
   "source": [
    "### Question 7 (0.5 mark)\n",
    "\n",
    "**Instructions:** Explain your approach and discuss your result below. Please keep your explanation to a short paragraph."
   ]
  },
  {
   "cell_type": "markdown",
   "metadata": {},
   "source": [
    "I implemented several techniques to improve the hangman AI's performance. \n",
    "\n",
    "- **Add-k smoothing**: I applied add-k smoothing when computing bigram and CBOW probabilities. Only the unigram model sees all characters in training. Other models like bigram or CBOW models don't know how to handle unseen character combinations like `\"xr\"` or `\"zx\"` when testing. Therefore, smoothing is essential. I experimented with k values from 1 to 0.005 and found smaller values yielded marginally better results generally.\n",
    "\n",
    "- **Bidirectional bigram**: To improve contextual understanding, I incorporated a bidirectional bigram model and pad the word with a period `.` at the end. Unlike the normal bigram which looks left-to-right, the reversed bigram tracks characters that precede a given letter. For instance, after seeing `\"ea\"`, `\"ra\"`, `\"ta\"` and `\"ta\"`, it stores the counts as `{'a': {'e': 1, 'r': 1, 't': 2}}`. This boosted performance by about 0.5 fewer mistakes on average.\n",
    "\n",
    "- **CBOW**: Unlike bigram models, CBOW takes into account both side of the middle characters at the same time. Initially, I used a window of size 3 and let's say, the model sees `'cat'` during training, it records `{('c','t'): {'a':1}}`. This helped the model in the later stages of guessing, reducing errors from 8.3 to around 7.7. Extending the window to size 5 further improved accuracy to nearly 7.5. However, a window of 7 worsened performance to roughly 8.9 mistakes, probably because such wide contexts were too specific and didn’t generalize well. Moreover, Some words are shorter than 7 letters after padding, and even longer ones might not provide consistent patterns across training and test sets. Note that if a word satisfies the conditions of CBOW with both window sizes, the model calculates probabilities twice using different window sizes. I made this design decision because there are lots of unseen 5-grams, so the probabilities computed according to CBOW with a window size of 5 may not be beneficial sometimes, requiring the assistance of CBOW with a smaller window size."
   ]
  }
 ],
 "metadata": {
  "anaconda-cloud": {},
  "kaggle": {
   "accelerator": "none",
   "dataSources": [],
   "dockerImageVersionId": 30918,
   "isGpuEnabled": false,
   "isInternetEnabled": true,
   "language": "python",
   "sourceType": "notebook"
  },
  "kernelspec": {
   "display_name": "Python 3",
   "language": "python",
   "name": "python3"
  },
  "language_info": {
   "codemirror_mode": {
    "name": "ipython",
    "version": 3
   },
   "file_extension": ".py",
   "mimetype": "text/x-python",
   "name": "python",
   "nbconvert_exporter": "python",
   "pygments_lexer": "ipython3",
   "version": "3.10.12"
  }
 },
 "nbformat": 4,
 "nbformat_minor": 4
}
